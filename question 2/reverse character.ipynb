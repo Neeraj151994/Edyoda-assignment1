{
 "cells": [
  {
   "cell_type": "code",
   "execution_count": 2,
   "id": "f4c3e588",
   "metadata": {},
   "outputs": [
    {
     "name": "stdout",
     "output_type": "stream",
     "text": [
      "Enter a word :Edyoda\n",
      "a d o y d E "
     ]
    }
   ],
   "source": [
    "letter=input(\"Enter a word :\")\n",
    "for word in range(len(letter)-1,-1,-1):\n",
    "    print((letter[word]),end=\" \")"
   ]
  },
  {
   "cell_type": "code",
   "execution_count": null,
   "id": "67388e3a",
   "metadata": {},
   "outputs": [],
   "source": []
  }
 ],
 "metadata": {
  "kernelspec": {
   "display_name": "Python 3 (ipykernel)",
   "language": "python",
   "name": "python3"
  },
  "language_info": {
   "codemirror_mode": {
    "name": "ipython",
    "version": 3
   },
   "file_extension": ".py",
   "mimetype": "text/x-python",
   "name": "python",
   "nbconvert_exporter": "python",
   "pygments_lexer": "ipython3",
   "version": "3.10.1"
  }
 },
 "nbformat": 4,
 "nbformat_minor": 5
}
